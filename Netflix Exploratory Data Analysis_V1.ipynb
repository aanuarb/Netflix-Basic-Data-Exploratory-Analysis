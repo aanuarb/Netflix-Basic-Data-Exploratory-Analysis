{
 "cells": [
  {
   "cell_type": "markdown",
   "id": "ed25711b",
   "metadata": {},
   "source": [
    "# Netflix Exploratory Data Analysis V1"
   ]
  },
  {
   "cell_type": "markdown",
   "id": "f12271f5",
   "metadata": {},
   "source": [
    "## About Dataset"
   ]
  },
  {
   "cell_type": "markdown",
   "id": "19b244ec",
   "metadata": {},
   "source": [
    "This data set was created to list all shows available on Netflix streaming, and analyze the data to find interesting facts. This data was acquired in May 2022 containing data available in the United States."
   ]
  },
  {
   "cell_type": "markdown",
   "id": "79478fc8",
   "metadata": {},
   "source": [
    "## Step 1: Import the necessary libraries"
   ]
  },
  {
   "cell_type": "code",
   "execution_count": 2,
   "id": "a03d325d",
   "metadata": {},
   "outputs": [],
   "source": [
    "import pandas as pd\n",
    "from pandas import DataFrame, read_excel, merge\n",
    "import numpy as np\n",
    "import seaborn as sns\n",
    "import matplotlib.pyplot as plt\n",
    "import ast\n",
    "import random\n",
    "import plotly.graph_objects as go"
   ]
  },
  {
   "cell_type": "markdown",
   "id": "c3489013",
   "metadata": {},
   "source": [
    "## Step 2: Load dataset"
   ]
  },
  {
   "cell_type": "code",
   "execution_count": 3,
   "id": "a34836b2",
   "metadata": {},
   "outputs": [],
   "source": [
    "data_titles = pd.read_csv(r'C:\\Users\\melli\\OneDrive\\Desktop\\Python Portfolio\\1. Netflix Analysis\\Dataset\\titles.csv')"
   ]
  },
  {
   "cell_type": "markdown",
   "id": "bacdc320",
   "metadata": {},
   "source": [
    "## Step 3: Understand the dataset"
   ]
  },
  {
   "cell_type": "code",
   "execution_count": 4,
   "id": "e47a3e76",
   "metadata": {},
   "outputs": [
    {
     "data": {
      "text/html": [
       "<div>\n",
       "<style scoped>\n",
       "    .dataframe tbody tr th:only-of-type {\n",
       "        vertical-align: middle;\n",
       "    }\n",
       "\n",
       "    .dataframe tbody tr th {\n",
       "        vertical-align: top;\n",
       "    }\n",
       "\n",
       "    .dataframe thead th {\n",
       "        text-align: right;\n",
       "    }\n",
       "</style>\n",
       "<table border=\"1\" class=\"dataframe\">\n",
       "  <thead>\n",
       "    <tr style=\"text-align: right;\">\n",
       "      <th></th>\n",
       "      <th>id</th>\n",
       "      <th>title</th>\n",
       "      <th>type</th>\n",
       "      <th>description</th>\n",
       "      <th>release_year</th>\n",
       "      <th>age_certification</th>\n",
       "      <th>runtime</th>\n",
       "      <th>genres</th>\n",
       "      <th>production_countries</th>\n",
       "      <th>seasons</th>\n",
       "      <th>imdb_id</th>\n",
       "      <th>imdb_score</th>\n",
       "      <th>imdb_votes</th>\n",
       "      <th>tmdb_popularity</th>\n",
       "      <th>tmdb_score</th>\n",
       "    </tr>\n",
       "  </thead>\n",
       "  <tbody>\n",
       "    <tr>\n",
       "      <th>0</th>\n",
       "      <td>ts300399</td>\n",
       "      <td>Five Came Back: The Reference Films</td>\n",
       "      <td>SHOW</td>\n",
       "      <td>This collection includes 12 World War II-era p...</td>\n",
       "      <td>1945</td>\n",
       "      <td>TV-MA</td>\n",
       "      <td>48</td>\n",
       "      <td>['documentation']</td>\n",
       "      <td>['US']</td>\n",
       "      <td>1.0</td>\n",
       "      <td>NaN</td>\n",
       "      <td>NaN</td>\n",
       "      <td>NaN</td>\n",
       "      <td>0.600</td>\n",
       "      <td>NaN</td>\n",
       "    </tr>\n",
       "    <tr>\n",
       "      <th>1</th>\n",
       "      <td>tm84618</td>\n",
       "      <td>Taxi Driver</td>\n",
       "      <td>MOVIE</td>\n",
       "      <td>A mentally unstable Vietnam War veteran works ...</td>\n",
       "      <td>1976</td>\n",
       "      <td>R</td>\n",
       "      <td>113</td>\n",
       "      <td>['crime', 'drama']</td>\n",
       "      <td>['US']</td>\n",
       "      <td>NaN</td>\n",
       "      <td>tt0075314</td>\n",
       "      <td>8.3</td>\n",
       "      <td>795222.0</td>\n",
       "      <td>27.612</td>\n",
       "      <td>8.2</td>\n",
       "    </tr>\n",
       "    <tr>\n",
       "      <th>2</th>\n",
       "      <td>tm127384</td>\n",
       "      <td>Monty Python and the Holy Grail</td>\n",
       "      <td>MOVIE</td>\n",
       "      <td>King Arthur, accompanied by his squire, recrui...</td>\n",
       "      <td>1975</td>\n",
       "      <td>PG</td>\n",
       "      <td>91</td>\n",
       "      <td>['comedy', 'fantasy']</td>\n",
       "      <td>['GB']</td>\n",
       "      <td>NaN</td>\n",
       "      <td>tt0071853</td>\n",
       "      <td>8.2</td>\n",
       "      <td>530877.0</td>\n",
       "      <td>18.216</td>\n",
       "      <td>7.8</td>\n",
       "    </tr>\n",
       "    <tr>\n",
       "      <th>3</th>\n",
       "      <td>tm70993</td>\n",
       "      <td>Life of Brian</td>\n",
       "      <td>MOVIE</td>\n",
       "      <td>Brian Cohen is an average young Jewish man, bu...</td>\n",
       "      <td>1979</td>\n",
       "      <td>R</td>\n",
       "      <td>94</td>\n",
       "      <td>['comedy']</td>\n",
       "      <td>['GB']</td>\n",
       "      <td>NaN</td>\n",
       "      <td>tt0079470</td>\n",
       "      <td>8.0</td>\n",
       "      <td>392419.0</td>\n",
       "      <td>17.505</td>\n",
       "      <td>7.8</td>\n",
       "    </tr>\n",
       "    <tr>\n",
       "      <th>4</th>\n",
       "      <td>tm190788</td>\n",
       "      <td>The Exorcist</td>\n",
       "      <td>MOVIE</td>\n",
       "      <td>12-year-old Regan MacNeil begins to adapt an e...</td>\n",
       "      <td>1973</td>\n",
       "      <td>R</td>\n",
       "      <td>133</td>\n",
       "      <td>['horror']</td>\n",
       "      <td>['US']</td>\n",
       "      <td>NaN</td>\n",
       "      <td>tt0070047</td>\n",
       "      <td>8.1</td>\n",
       "      <td>391942.0</td>\n",
       "      <td>95.337</td>\n",
       "      <td>7.7</td>\n",
       "    </tr>\n",
       "  </tbody>\n",
       "</table>\n",
       "</div>"
      ],
      "text/plain": [
       "         id                                title   type  \\\n",
       "0  ts300399  Five Came Back: The Reference Films   SHOW   \n",
       "1   tm84618                          Taxi Driver  MOVIE   \n",
       "2  tm127384      Monty Python and the Holy Grail  MOVIE   \n",
       "3   tm70993                        Life of Brian  MOVIE   \n",
       "4  tm190788                         The Exorcist  MOVIE   \n",
       "\n",
       "                                         description  release_year  \\\n",
       "0  This collection includes 12 World War II-era p...          1945   \n",
       "1  A mentally unstable Vietnam War veteran works ...          1976   \n",
       "2  King Arthur, accompanied by his squire, recrui...          1975   \n",
       "3  Brian Cohen is an average young Jewish man, bu...          1979   \n",
       "4  12-year-old Regan MacNeil begins to adapt an e...          1973   \n",
       "\n",
       "  age_certification  runtime                 genres production_countries  \\\n",
       "0             TV-MA       48      ['documentation']               ['US']   \n",
       "1                 R      113     ['crime', 'drama']               ['US']   \n",
       "2                PG       91  ['comedy', 'fantasy']               ['GB']   \n",
       "3                 R       94             ['comedy']               ['GB']   \n",
       "4                 R      133             ['horror']               ['US']   \n",
       "\n",
       "   seasons    imdb_id  imdb_score  imdb_votes  tmdb_popularity  tmdb_score  \n",
       "0      1.0        NaN         NaN         NaN            0.600         NaN  \n",
       "1      NaN  tt0075314         8.3    795222.0           27.612         8.2  \n",
       "2      NaN  tt0071853         8.2    530877.0           18.216         7.8  \n",
       "3      NaN  tt0079470         8.0    392419.0           17.505         7.8  \n",
       "4      NaN  tt0070047         8.1    391942.0           95.337         7.7  "
      ]
     },
     "execution_count": 4,
     "metadata": {},
     "output_type": "execute_result"
    }
   ],
   "source": [
    "data_titles.head()"
   ]
  },
  {
   "cell_type": "code",
   "execution_count": 5,
   "id": "c385e582",
   "metadata": {},
   "outputs": [
    {
     "data": {
      "text/html": [
       "<div>\n",
       "<style scoped>\n",
       "    .dataframe tbody tr th:only-of-type {\n",
       "        vertical-align: middle;\n",
       "    }\n",
       "\n",
       "    .dataframe tbody tr th {\n",
       "        vertical-align: top;\n",
       "    }\n",
       "\n",
       "    .dataframe thead th {\n",
       "        text-align: right;\n",
       "    }\n",
       "</style>\n",
       "<table border=\"1\" class=\"dataframe\">\n",
       "  <thead>\n",
       "    <tr style=\"text-align: right;\">\n",
       "      <th></th>\n",
       "      <th>id</th>\n",
       "      <th>title</th>\n",
       "      <th>type</th>\n",
       "      <th>description</th>\n",
       "      <th>release_year</th>\n",
       "      <th>age_certification</th>\n",
       "      <th>runtime</th>\n",
       "      <th>genres</th>\n",
       "      <th>production_countries</th>\n",
       "      <th>seasons</th>\n",
       "      <th>imdb_id</th>\n",
       "      <th>imdb_score</th>\n",
       "      <th>imdb_votes</th>\n",
       "      <th>tmdb_popularity</th>\n",
       "      <th>tmdb_score</th>\n",
       "    </tr>\n",
       "  </thead>\n",
       "  <tbody>\n",
       "    <tr>\n",
       "      <th>5801</th>\n",
       "      <td>tm1014599</td>\n",
       "      <td>Fine Wine</td>\n",
       "      <td>MOVIE</td>\n",
       "      <td>A beautiful love story that can happen between...</td>\n",
       "      <td>2021</td>\n",
       "      <td>NaN</td>\n",
       "      <td>100</td>\n",
       "      <td>['romance', 'drama']</td>\n",
       "      <td>['NG']</td>\n",
       "      <td>NaN</td>\n",
       "      <td>tt13857480</td>\n",
       "      <td>6.9</td>\n",
       "      <td>39.0</td>\n",
       "      <td>0.966</td>\n",
       "      <td>NaN</td>\n",
       "    </tr>\n",
       "    <tr>\n",
       "      <th>5802</th>\n",
       "      <td>tm1108171</td>\n",
       "      <td>Edis Starlight</td>\n",
       "      <td>MOVIE</td>\n",
       "      <td>Rising star Edis's career journey with ups and...</td>\n",
       "      <td>2021</td>\n",
       "      <td>NaN</td>\n",
       "      <td>74</td>\n",
       "      <td>['music', 'documentation']</td>\n",
       "      <td>[]</td>\n",
       "      <td>NaN</td>\n",
       "      <td>NaN</td>\n",
       "      <td>NaN</td>\n",
       "      <td>NaN</td>\n",
       "      <td>1.036</td>\n",
       "      <td>8.5</td>\n",
       "    </tr>\n",
       "    <tr>\n",
       "      <th>5803</th>\n",
       "      <td>tm1045018</td>\n",
       "      <td>Clash</td>\n",
       "      <td>MOVIE</td>\n",
       "      <td>A man from Nigeria returns to his family in Ca...</td>\n",
       "      <td>2021</td>\n",
       "      <td>NaN</td>\n",
       "      <td>88</td>\n",
       "      <td>['family', 'drama']</td>\n",
       "      <td>['NG', 'CA']</td>\n",
       "      <td>NaN</td>\n",
       "      <td>tt14620732</td>\n",
       "      <td>6.5</td>\n",
       "      <td>32.0</td>\n",
       "      <td>0.709</td>\n",
       "      <td>NaN</td>\n",
       "    </tr>\n",
       "    <tr>\n",
       "      <th>5804</th>\n",
       "      <td>tm1098060</td>\n",
       "      <td>Shadow Parties</td>\n",
       "      <td>MOVIE</td>\n",
       "      <td>A family faces destruction in a long-running c...</td>\n",
       "      <td>2021</td>\n",
       "      <td>NaN</td>\n",
       "      <td>116</td>\n",
       "      <td>['action', 'thriller']</td>\n",
       "      <td>[]</td>\n",
       "      <td>NaN</td>\n",
       "      <td>tt10168094</td>\n",
       "      <td>6.2</td>\n",
       "      <td>9.0</td>\n",
       "      <td>2.186</td>\n",
       "      <td>NaN</td>\n",
       "    </tr>\n",
       "    <tr>\n",
       "      <th>5805</th>\n",
       "      <td>ts271048</td>\n",
       "      <td>Mighty Little Bheem: Kite Festival</td>\n",
       "      <td>SHOW</td>\n",
       "      <td>With winter behind them, Bheem and his townspe...</td>\n",
       "      <td>2021</td>\n",
       "      <td>NaN</td>\n",
       "      <td>0</td>\n",
       "      <td>['family', 'comedy', 'animation']</td>\n",
       "      <td>[]</td>\n",
       "      <td>1.0</td>\n",
       "      <td>tt13711094</td>\n",
       "      <td>8.8</td>\n",
       "      <td>16.0</td>\n",
       "      <td>0.979</td>\n",
       "      <td>10.0</td>\n",
       "    </tr>\n",
       "  </tbody>\n",
       "</table>\n",
       "</div>"
      ],
      "text/plain": [
       "             id                               title   type  \\\n",
       "5801  tm1014599                           Fine Wine  MOVIE   \n",
       "5802  tm1108171                      Edis Starlight  MOVIE   \n",
       "5803  tm1045018                               Clash  MOVIE   \n",
       "5804  tm1098060                      Shadow Parties  MOVIE   \n",
       "5805   ts271048  Mighty Little Bheem: Kite Festival   SHOW   \n",
       "\n",
       "                                            description  release_year  \\\n",
       "5801  A beautiful love story that can happen between...          2021   \n",
       "5802  Rising star Edis's career journey with ups and...          2021   \n",
       "5803  A man from Nigeria returns to his family in Ca...          2021   \n",
       "5804  A family faces destruction in a long-running c...          2021   \n",
       "5805  With winter behind them, Bheem and his townspe...          2021   \n",
       "\n",
       "     age_certification  runtime                             genres  \\\n",
       "5801               NaN      100               ['romance', 'drama']   \n",
       "5802               NaN       74         ['music', 'documentation']   \n",
       "5803               NaN       88                ['family', 'drama']   \n",
       "5804               NaN      116             ['action', 'thriller']   \n",
       "5805               NaN        0  ['family', 'comedy', 'animation']   \n",
       "\n",
       "     production_countries  seasons     imdb_id  imdb_score  imdb_votes  \\\n",
       "5801               ['NG']      NaN  tt13857480         6.9        39.0   \n",
       "5802                   []      NaN         NaN         NaN         NaN   \n",
       "5803         ['NG', 'CA']      NaN  tt14620732         6.5        32.0   \n",
       "5804                   []      NaN  tt10168094         6.2         9.0   \n",
       "5805                   []      1.0  tt13711094         8.8        16.0   \n",
       "\n",
       "      tmdb_popularity  tmdb_score  \n",
       "5801            0.966         NaN  \n",
       "5802            1.036         8.5  \n",
       "5803            0.709         NaN  \n",
       "5804            2.186         NaN  \n",
       "5805            0.979        10.0  "
      ]
     },
     "execution_count": 5,
     "metadata": {},
     "output_type": "execute_result"
    }
   ],
   "source": [
    "data_titles.tail()"
   ]
  },
  {
   "cell_type": "code",
   "execution_count": 6,
   "id": "ffb60221",
   "metadata": {},
   "outputs": [
    {
     "data": {
      "text/plain": [
       "(5806, 15)"
      ]
     },
     "execution_count": 6,
     "metadata": {},
     "output_type": "execute_result"
    }
   ],
   "source": [
    "data_titles.shape"
   ]
  },
  {
   "cell_type": "code",
   "execution_count": 7,
   "id": "632c5a53",
   "metadata": {},
   "outputs": [
    {
     "data": {
      "text/plain": [
       "id                      5806\n",
       "title                   5751\n",
       "type                       2\n",
       "description             5785\n",
       "release_year              67\n",
       "age_certification         11\n",
       "runtime                  205\n",
       "genres                  1626\n",
       "production_countries     449\n",
       "seasons                   23\n",
       "imdb_id                 5362\n",
       "imdb_score                81\n",
       "imdb_votes              3831\n",
       "tmdb_popularity         4943\n",
       "tmdb_score                78\n",
       "dtype: int64"
      ]
     },
     "execution_count": 7,
     "metadata": {},
     "output_type": "execute_result"
    }
   ],
   "source": [
    "data_titles.nunique()"
   ]
  },
  {
   "cell_type": "code",
   "execution_count": 8,
   "id": "fc39e078",
   "metadata": {},
   "outputs": [
    {
     "data": {
      "text/html": [
       "<div>\n",
       "<style scoped>\n",
       "    .dataframe tbody tr th:only-of-type {\n",
       "        vertical-align: middle;\n",
       "    }\n",
       "\n",
       "    .dataframe tbody tr th {\n",
       "        vertical-align: top;\n",
       "    }\n",
       "\n",
       "    .dataframe thead th {\n",
       "        text-align: right;\n",
       "    }\n",
       "</style>\n",
       "<table border=\"1\" class=\"dataframe\">\n",
       "  <thead>\n",
       "    <tr style=\"text-align: right;\">\n",
       "      <th></th>\n",
       "      <th>release_year</th>\n",
       "      <th>runtime</th>\n",
       "      <th>seasons</th>\n",
       "      <th>imdb_score</th>\n",
       "      <th>imdb_votes</th>\n",
       "      <th>tmdb_popularity</th>\n",
       "      <th>tmdb_score</th>\n",
       "    </tr>\n",
       "  </thead>\n",
       "  <tbody>\n",
       "    <tr>\n",
       "      <th>count</th>\n",
       "      <td>5806.000000</td>\n",
       "      <td>5806.000000</td>\n",
       "      <td>2047.000000</td>\n",
       "      <td>5283.000000</td>\n",
       "      <td>5.267000e+03</td>\n",
       "      <td>5712.000000</td>\n",
       "      <td>5488.000000</td>\n",
       "    </tr>\n",
       "    <tr>\n",
       "      <th>mean</th>\n",
       "      <td>2016.013434</td>\n",
       "      <td>77.643989</td>\n",
       "      <td>2.165608</td>\n",
       "      <td>6.533447</td>\n",
       "      <td>2.340719e+04</td>\n",
       "      <td>22.525660</td>\n",
       "      <td>6.818039</td>\n",
       "    </tr>\n",
       "    <tr>\n",
       "      <th>std</th>\n",
       "      <td>7.324883</td>\n",
       "      <td>39.474160</td>\n",
       "      <td>2.636207</td>\n",
       "      <td>1.160932</td>\n",
       "      <td>8.713432e+04</td>\n",
       "      <td>68.849177</td>\n",
       "      <td>1.171560</td>\n",
       "    </tr>\n",
       "    <tr>\n",
       "      <th>min</th>\n",
       "      <td>1945.000000</td>\n",
       "      <td>0.000000</td>\n",
       "      <td>1.000000</td>\n",
       "      <td>1.500000</td>\n",
       "      <td>5.000000e+00</td>\n",
       "      <td>0.009442</td>\n",
       "      <td>0.500000</td>\n",
       "    </tr>\n",
       "    <tr>\n",
       "      <th>25%</th>\n",
       "      <td>2015.000000</td>\n",
       "      <td>44.000000</td>\n",
       "      <td>1.000000</td>\n",
       "      <td>5.800000</td>\n",
       "      <td>5.210000e+02</td>\n",
       "      <td>3.155250</td>\n",
       "      <td>6.100000</td>\n",
       "    </tr>\n",
       "    <tr>\n",
       "      <th>50%</th>\n",
       "      <td>2018.000000</td>\n",
       "      <td>84.000000</td>\n",
       "      <td>1.000000</td>\n",
       "      <td>6.600000</td>\n",
       "      <td>2.279000e+03</td>\n",
       "      <td>7.478000</td>\n",
       "      <td>6.900000</td>\n",
       "    </tr>\n",
       "    <tr>\n",
       "      <th>75%</th>\n",
       "      <td>2020.000000</td>\n",
       "      <td>105.000000</td>\n",
       "      <td>2.000000</td>\n",
       "      <td>7.400000</td>\n",
       "      <td>1.014400e+04</td>\n",
       "      <td>17.775750</td>\n",
       "      <td>7.500000</td>\n",
       "    </tr>\n",
       "    <tr>\n",
       "      <th>max</th>\n",
       "      <td>2022.000000</td>\n",
       "      <td>251.000000</td>\n",
       "      <td>42.000000</td>\n",
       "      <td>9.600000</td>\n",
       "      <td>2.268288e+06</td>\n",
       "      <td>1823.374000</td>\n",
       "      <td>10.000000</td>\n",
       "    </tr>\n",
       "  </tbody>\n",
       "</table>\n",
       "</div>"
      ],
      "text/plain": [
       "       release_year      runtime      seasons   imdb_score    imdb_votes  \\\n",
       "count   5806.000000  5806.000000  2047.000000  5283.000000  5.267000e+03   \n",
       "mean    2016.013434    77.643989     2.165608     6.533447  2.340719e+04   \n",
       "std        7.324883    39.474160     2.636207     1.160932  8.713432e+04   \n",
       "min     1945.000000     0.000000     1.000000     1.500000  5.000000e+00   \n",
       "25%     2015.000000    44.000000     1.000000     5.800000  5.210000e+02   \n",
       "50%     2018.000000    84.000000     1.000000     6.600000  2.279000e+03   \n",
       "75%     2020.000000   105.000000     2.000000     7.400000  1.014400e+04   \n",
       "max     2022.000000   251.000000    42.000000     9.600000  2.268288e+06   \n",
       "\n",
       "       tmdb_popularity   tmdb_score  \n",
       "count      5712.000000  5488.000000  \n",
       "mean         22.525660     6.818039  \n",
       "std          68.849177     1.171560  \n",
       "min           0.009442     0.500000  \n",
       "25%           3.155250     6.100000  \n",
       "50%           7.478000     6.900000  \n",
       "75%          17.775750     7.500000  \n",
       "max        1823.374000    10.000000  "
      ]
     },
     "execution_count": 8,
     "metadata": {},
     "output_type": "execute_result"
    }
   ],
   "source": [
    "data_titles.describe()"
   ]
  },
  {
   "cell_type": "markdown",
   "id": "1e5b82c5",
   "metadata": {},
   "source": [
    "## Step 4: Drop any columns that are unnecessary for this analysis"
   ]
  },
  {
   "cell_type": "code",
   "execution_count": 9,
   "id": "9e20ce57",
   "metadata": {},
   "outputs": [],
   "source": [
    "data_titles=data_titles.drop(['id', 'age_certification', 'runtime', 'seasons', 'imdb_id', 'imdb_votes', 'tmdb_popularity'], axis=1)"
   ]
  },
  {
   "cell_type": "code",
   "execution_count": 10,
   "id": "578e1c09",
   "metadata": {
    "scrolled": true
   },
   "outputs": [
    {
     "data": {
      "text/html": [
       "<div>\n",
       "<style scoped>\n",
       "    .dataframe tbody tr th:only-of-type {\n",
       "        vertical-align: middle;\n",
       "    }\n",
       "\n",
       "    .dataframe tbody tr th {\n",
       "        vertical-align: top;\n",
       "    }\n",
       "\n",
       "    .dataframe thead th {\n",
       "        text-align: right;\n",
       "    }\n",
       "</style>\n",
       "<table border=\"1\" class=\"dataframe\">\n",
       "  <thead>\n",
       "    <tr style=\"text-align: right;\">\n",
       "      <th></th>\n",
       "      <th>title</th>\n",
       "      <th>type</th>\n",
       "      <th>description</th>\n",
       "      <th>release_year</th>\n",
       "      <th>genres</th>\n",
       "      <th>production_countries</th>\n",
       "      <th>imdb_score</th>\n",
       "      <th>tmdb_score</th>\n",
       "    </tr>\n",
       "  </thead>\n",
       "  <tbody>\n",
       "    <tr>\n",
       "      <th>0</th>\n",
       "      <td>Five Came Back: The Reference Films</td>\n",
       "      <td>SHOW</td>\n",
       "      <td>This collection includes 12 World War II-era p...</td>\n",
       "      <td>1945</td>\n",
       "      <td>['documentation']</td>\n",
       "      <td>['US']</td>\n",
       "      <td>NaN</td>\n",
       "      <td>NaN</td>\n",
       "    </tr>\n",
       "    <tr>\n",
       "      <th>1</th>\n",
       "      <td>Taxi Driver</td>\n",
       "      <td>MOVIE</td>\n",
       "      <td>A mentally unstable Vietnam War veteran works ...</td>\n",
       "      <td>1976</td>\n",
       "      <td>['crime', 'drama']</td>\n",
       "      <td>['US']</td>\n",
       "      <td>8.3</td>\n",
       "      <td>8.2</td>\n",
       "    </tr>\n",
       "    <tr>\n",
       "      <th>2</th>\n",
       "      <td>Monty Python and the Holy Grail</td>\n",
       "      <td>MOVIE</td>\n",
       "      <td>King Arthur, accompanied by his squire, recrui...</td>\n",
       "      <td>1975</td>\n",
       "      <td>['comedy', 'fantasy']</td>\n",
       "      <td>['GB']</td>\n",
       "      <td>8.2</td>\n",
       "      <td>7.8</td>\n",
       "    </tr>\n",
       "    <tr>\n",
       "      <th>3</th>\n",
       "      <td>Life of Brian</td>\n",
       "      <td>MOVIE</td>\n",
       "      <td>Brian Cohen is an average young Jewish man, bu...</td>\n",
       "      <td>1979</td>\n",
       "      <td>['comedy']</td>\n",
       "      <td>['GB']</td>\n",
       "      <td>8.0</td>\n",
       "      <td>7.8</td>\n",
       "    </tr>\n",
       "    <tr>\n",
       "      <th>4</th>\n",
       "      <td>The Exorcist</td>\n",
       "      <td>MOVIE</td>\n",
       "      <td>12-year-old Regan MacNeil begins to adapt an e...</td>\n",
       "      <td>1973</td>\n",
       "      <td>['horror']</td>\n",
       "      <td>['US']</td>\n",
       "      <td>8.1</td>\n",
       "      <td>7.7</td>\n",
       "    </tr>\n",
       "  </tbody>\n",
       "</table>\n",
       "</div>"
      ],
      "text/plain": [
       "                                 title   type  \\\n",
       "0  Five Came Back: The Reference Films   SHOW   \n",
       "1                          Taxi Driver  MOVIE   \n",
       "2      Monty Python and the Holy Grail  MOVIE   \n",
       "3                        Life of Brian  MOVIE   \n",
       "4                         The Exorcist  MOVIE   \n",
       "\n",
       "                                         description  release_year  \\\n",
       "0  This collection includes 12 World War II-era p...          1945   \n",
       "1  A mentally unstable Vietnam War veteran works ...          1976   \n",
       "2  King Arthur, accompanied by his squire, recrui...          1975   \n",
       "3  Brian Cohen is an average young Jewish man, bu...          1979   \n",
       "4  12-year-old Regan MacNeil begins to adapt an e...          1973   \n",
       "\n",
       "                  genres production_countries  imdb_score  tmdb_score  \n",
       "0      ['documentation']               ['US']         NaN         NaN  \n",
       "1     ['crime', 'drama']               ['US']         8.3         8.2  \n",
       "2  ['comedy', 'fantasy']               ['GB']         8.2         7.8  \n",
       "3             ['comedy']               ['GB']         8.0         7.8  \n",
       "4             ['horror']               ['US']         8.1         7.7  "
      ]
     },
     "execution_count": 10,
     "metadata": {},
     "output_type": "execute_result"
    }
   ],
   "source": [
    "data_titles.head()"
   ]
  },
  {
   "cell_type": "markdown",
   "id": "4c7d8499",
   "metadata": {},
   "source": [
    "## Step 5: Clean dataset"
   ]
  },
  {
   "cell_type": "code",
   "execution_count": 11,
   "id": "aa5779f9",
   "metadata": {},
   "outputs": [
    {
     "data": {
      "text/plain": [
       "title                     1\n",
       "type                      0\n",
       "description              18\n",
       "release_year              0\n",
       "genres                    0\n",
       "production_countries      0\n",
       "imdb_score              523\n",
       "tmdb_score              318\n",
       "dtype: int64"
      ]
     },
     "execution_count": 11,
     "metadata": {},
     "output_type": "execute_result"
    }
   ],
   "source": [
    "data_titles.isnull().sum()"
   ]
  },
  {
   "cell_type": "markdown",
   "id": "f1d0ce2b",
   "metadata": {},
   "source": [
    "### Since we require imdb and tmdb score for this analysis, I used the mean value to replace the null value in the dataset"
   ]
  },
  {
   "cell_type": "code",
   "execution_count": 12,
   "id": "da45b25c",
   "metadata": {},
   "outputs": [],
   "source": [
    "avg_imdb_score = data_titles['imdb_score'].astype('float').mean(axis=0)\n",
    "data_titles['imdb_score'].replace(np.nan, avg_imdb_score,  inplace=True)"
   ]
  },
  {
   "cell_type": "code",
   "execution_count": 13,
   "id": "d440b9b9",
   "metadata": {},
   "outputs": [],
   "source": [
    "avg_tmdb_score = data_titles['tmdb_score'].astype('float').mean(axis=0)\n",
    "data_titles['tmdb_score'].replace(np.nan, avg_tmdb_score,  inplace=True)"
   ]
  },
  {
   "cell_type": "code",
   "execution_count": 14,
   "id": "ce512c12",
   "metadata": {},
   "outputs": [
    {
     "data": {
      "text/plain": [
       "title                    1\n",
       "type                     0\n",
       "description             18\n",
       "release_year             0\n",
       "genres                   0\n",
       "production_countries     0\n",
       "imdb_score               0\n",
       "tmdb_score               0\n",
       "dtype: int64"
      ]
     },
     "execution_count": 14,
     "metadata": {},
     "output_type": "execute_result"
    }
   ],
   "source": [
    "data_titles.isnull().sum()"
   ]
  },
  {
   "cell_type": "markdown",
   "id": "14f8ae5a",
   "metadata": {},
   "source": [
    "### There are multiple variables within the genres value. To avoid multiple duplicates within the column, I've used the lambda function to only select the first variable in each value."
   ]
  },
  {
   "cell_type": "code",
   "execution_count": 15,
   "id": "830c7087",
   "metadata": {},
   "outputs": [],
   "source": [
    "data_titles['genres'] = data_titles['genres'].apply(lambda x: x.split(',')[0])"
   ]
  },
  {
   "cell_type": "code",
   "execution_count": 16,
   "id": "5eeb5263",
   "metadata": {},
   "outputs": [
    {
     "data": {
      "text/html": [
       "<div>\n",
       "<style scoped>\n",
       "    .dataframe tbody tr th:only-of-type {\n",
       "        vertical-align: middle;\n",
       "    }\n",
       "\n",
       "    .dataframe tbody tr th {\n",
       "        vertical-align: top;\n",
       "    }\n",
       "\n",
       "    .dataframe thead th {\n",
       "        text-align: right;\n",
       "    }\n",
       "</style>\n",
       "<table border=\"1\" class=\"dataframe\">\n",
       "  <thead>\n",
       "    <tr style=\"text-align: right;\">\n",
       "      <th></th>\n",
       "      <th>title</th>\n",
       "      <th>type</th>\n",
       "      <th>description</th>\n",
       "      <th>release_year</th>\n",
       "      <th>genres</th>\n",
       "      <th>production_countries</th>\n",
       "      <th>imdb_score</th>\n",
       "      <th>tmdb_score</th>\n",
       "    </tr>\n",
       "  </thead>\n",
       "  <tbody>\n",
       "    <tr>\n",
       "      <th>0</th>\n",
       "      <td>Five Came Back: The Reference Films</td>\n",
       "      <td>SHOW</td>\n",
       "      <td>This collection includes 12 World War II-era p...</td>\n",
       "      <td>1945</td>\n",
       "      <td>['documentation']</td>\n",
       "      <td>['US']</td>\n",
       "      <td>6.533447</td>\n",
       "      <td>6.818039</td>\n",
       "    </tr>\n",
       "    <tr>\n",
       "      <th>1</th>\n",
       "      <td>Taxi Driver</td>\n",
       "      <td>MOVIE</td>\n",
       "      <td>A mentally unstable Vietnam War veteran works ...</td>\n",
       "      <td>1976</td>\n",
       "      <td>['crime'</td>\n",
       "      <td>['US']</td>\n",
       "      <td>8.300000</td>\n",
       "      <td>8.200000</td>\n",
       "    </tr>\n",
       "    <tr>\n",
       "      <th>2</th>\n",
       "      <td>Monty Python and the Holy Grail</td>\n",
       "      <td>MOVIE</td>\n",
       "      <td>King Arthur, accompanied by his squire, recrui...</td>\n",
       "      <td>1975</td>\n",
       "      <td>['comedy'</td>\n",
       "      <td>['GB']</td>\n",
       "      <td>8.200000</td>\n",
       "      <td>7.800000</td>\n",
       "    </tr>\n",
       "    <tr>\n",
       "      <th>3</th>\n",
       "      <td>Life of Brian</td>\n",
       "      <td>MOVIE</td>\n",
       "      <td>Brian Cohen is an average young Jewish man, bu...</td>\n",
       "      <td>1979</td>\n",
       "      <td>['comedy']</td>\n",
       "      <td>['GB']</td>\n",
       "      <td>8.000000</td>\n",
       "      <td>7.800000</td>\n",
       "    </tr>\n",
       "    <tr>\n",
       "      <th>4</th>\n",
       "      <td>The Exorcist</td>\n",
       "      <td>MOVIE</td>\n",
       "      <td>12-year-old Regan MacNeil begins to adapt an e...</td>\n",
       "      <td>1973</td>\n",
       "      <td>['horror']</td>\n",
       "      <td>['US']</td>\n",
       "      <td>8.100000</td>\n",
       "      <td>7.700000</td>\n",
       "    </tr>\n",
       "  </tbody>\n",
       "</table>\n",
       "</div>"
      ],
      "text/plain": [
       "                                 title   type  \\\n",
       "0  Five Came Back: The Reference Films   SHOW   \n",
       "1                          Taxi Driver  MOVIE   \n",
       "2      Monty Python and the Holy Grail  MOVIE   \n",
       "3                        Life of Brian  MOVIE   \n",
       "4                         The Exorcist  MOVIE   \n",
       "\n",
       "                                         description  release_year  \\\n",
       "0  This collection includes 12 World War II-era p...          1945   \n",
       "1  A mentally unstable Vietnam War veteran works ...          1976   \n",
       "2  King Arthur, accompanied by his squire, recrui...          1975   \n",
       "3  Brian Cohen is an average young Jewish man, bu...          1979   \n",
       "4  12-year-old Regan MacNeil begins to adapt an e...          1973   \n",
       "\n",
       "              genres production_countries  imdb_score  tmdb_score  \n",
       "0  ['documentation']               ['US']    6.533447    6.818039  \n",
       "1           ['crime'               ['US']    8.300000    8.200000  \n",
       "2          ['comedy'               ['GB']    8.200000    7.800000  \n",
       "3         ['comedy']               ['GB']    8.000000    7.800000  \n",
       "4         ['horror']               ['US']    8.100000    7.700000  "
      ]
     },
     "execution_count": 16,
     "metadata": {},
     "output_type": "execute_result"
    }
   ],
   "source": [
    "data_titles.head()"
   ]
  },
  {
   "cell_type": "markdown",
   "id": "1e146618",
   "metadata": {},
   "source": [
    "## Step 6: Perform exploratory data analysis"
   ]
  },
  {
   "cell_type": "markdown",
   "id": "7f61308d",
   "metadata": {},
   "source": [
    "### Which type of content is more widely available on Netflix"
   ]
  },
  {
   "cell_type": "code",
   "execution_count": 17,
   "id": "e26eaa4d",
   "metadata": {},
   "outputs": [
    {
     "data": {
      "text/plain": [
       "<AxesSubplot:title={'center':'Type of Content on Netflix'}, ylabel='imdb_score'>"
      ]
     },
     "execution_count": 17,
     "metadata": {},
     "output_type": "execute_result"
    },
    {
     "data": {
      "image/png": "[encoded data removed]",
      "text/plain": [
       "<Figure size 432x288 with 1 Axes>"
      ]
     },
     "metadata": {},
     "output_type": "display_data"
    }
   ],
   "source": [
    "data_titles.groupby(['type']).sum().plot(kind='pie', y='imdb_score', title='Type of Content on Netflix', colors=['red', 'grey'], autopct='%1.0f%%')"
   ]
  },
  {
   "cell_type": "markdown",
   "id": "10368ac4",
   "metadata": {},
   "source": [
    "### What type of genres are more widely available on Netflix?"
   ]
  },
  {
   "cell_type": "code",
   "execution_count": 18,
   "id": "3450cb28",
   "metadata": {},
   "outputs": [
    {
     "name": "stderr",
     "output_type": "stream",
     "text": [
      "C:\\Users\\melli\\AppData\\Local\\Programs\\Python\\Python310\\lib\\site-packages\\seaborn\\_decorators.py:36: FutureWarning: Pass the following variable as a keyword arg: x. From version 0.12, the only valid positional argument will be `data`, and passing other arguments without an explicit keyword will result in an error or misinterpretation.\n",
      "  warnings.warn(\n"
     ]
    },
    {
     "data": {
      "image/png": "[encoded data removed]",
      "text/plain": [
       "<Figure size 432x288 with 1 Axes>"
      ]
     },
     "metadata": {
      "needs_background": "light"
     },
     "output_type": "display_data"
    }
   ],
   "source": [
    "sns.countplot(data_titles['genres'], palette='winter')\n",
    "\n",
    "plt.title('Number of genres on Netflix')\n",
    "plt.xticks(rotation='vertical', size=8)\n",
    "plt.xlabel('genres')\n",
    "plt.ylabel('count')\n",
    "plt.show()"
   ]
  },
  {
   "cell_type": "markdown",
   "id": "cf0f12c3",
   "metadata": {},
   "source": [
    "### Which genres garners a high imdb score?"
   ]
  },
  {
   "cell_type": "code",
   "execution_count": 20,
   "id": "f8c62ccc",
   "metadata": {},
   "outputs": [],
   "source": [
    "comedy = data_titles[data_titles['genres'] == \"['comedy']\"]\n",
    "drama = data_titles[data_titles['genres'] == \"['drama']\"]\n",
    "thriller = data_titles[data_titles['genres'] == \"['thriller']\"]\n",
    "romance = data_titles[data_titles['genres'] == \"['romance']\"]\n",
    "action = data_titles[data_titles['genres'] == \"['action']\"]\n",
    "crime = data_titles[data_titles['genres'] == \"['crime']\"]\n",
    "documentation = data_titles[data_titles['genres'] == \"['documentation']\"]\n",
    "scifi = data_titles[data_titles['genres'] == \"['scifi']\"]\n",
    "animation = data_titles[data_titles['genres'] == \"['animation']\"]\n",
    "reality = data_titles[data_titles['genres'] == \"['reality']\"]\n",
    "horror = data_titles[data_titles['genres'] == \"['horror']\"]\n",
    "family = data_titles[data_titles['genres'] == \"['family']\"]\n",
    "music = data_titles[data_titles['genres'] == \"['music']\"]\n",
    "war = data_titles[data_titles['genres'] == \"['war']\"]\n",
    "western = data_titles[data_titles['genres'] == \"['western']\"]\n",
    "fantasy = data_titles[data_titles['genres'] == \"['fantasy']\"]\n",
    "history = data_titles[data_titles['genres'] == \"['history']\"]\n",
    "sport = data_titles[data_titles['genres'] == \"['sport']\"]\n",
    "\n",
    "mean_values = [comedy['imdb_score'].mean(), drama['imdb_score'].mean(), thriller['imdb_score'].mean(), romance['imdb_score'].mean(),\n",
    "              action['imdb_score'].mean(), crime['imdb_score'].mean(), documentation['imdb_score'].mean(), \n",
    "               scifi['imdb_score'].mean(), animation['imdb_score'].mean(), reality['imdb_score'].mean(),\n",
    "              horror['imdb_score'].mean(), family['imdb_score'].mean(), music['imdb_score'].mean(),\n",
    "              war['imdb_score'].mean(), western['imdb_score'].mean(), fantasy['imdb_score'].mean(), \n",
    "               history['imdb_score'].mean(), sport['imdb_score'].mean()]\n",
    "\n",
    "genres = [0, 1, 2, 3, 4, 5, 6, 7, 8, 9, 10, 11, 12, 13, 14, 15, 16, 17]"
   ]
  },
  {
   "cell_type": "code",
   "execution_count": 21,
   "id": "5a9403da",
   "metadata": {},
   "outputs": [
    {
     "data": {
      "image/png": "[encoded data removed]",
      "text/plain": [
       "<Figure size 432x288 with 1 Axes>"
      ]
     },
     "metadata": {
      "needs_background": "light"
     },
     "output_type": "display_data"
    }
   ],
   "source": [
    "imdb_plot = sns.barplot(x = genres, y = mean_values)\n",
    "imdb_plot.set_xlabel('Genres')\n",
    "imdb_plot.set_ylabel('Average tmdb Score')\n",
    "imdb_plot.set_xticklabels(['Comedy', 'Drama', 'Thriller', 'Romance', 'Action', 'Crime', 'Documentation', 'Scifi', 'Animation', 'Reality',\n",
    "                          'Horror', 'Family', 'Music', 'War', 'Western', 'Fantasy', 'History', 'Sport'])  \n",
    "plt.xticks(rotation='vertical', size=10)\n",
    "plt.show()"
   ]
  },
  {
   "cell_type": "markdown",
   "id": "15712bbb",
   "metadata": {},
   "source": [
    "### Which movies have the highest imdb score? "
   ]
  },
  {
   "cell_type": "code",
   "execution_count": 71,
   "id": "8e50676e",
   "metadata": {},
   "outputs": [],
   "source": [
    "# Top 10 movies with highest rating based on imdb score\n",
    "top_20_imdb_score = data_titles.sort_values(['imdb_score'], ascending= False)[['title','imdb_score']].head(20)"
   ]
  },
  {
   "cell_type": "code",
   "execution_count": 31,
   "id": "326bf82e",
   "metadata": {},
   "outputs": [
    {
     "data": {
      "image/png": "[encoded data removed]",
      "text/plain": [
       "<Figure size 648x432 with 1 Axes>"
      ]
     },
     "metadata": {
      "needs_background": "light"
     },
     "output_type": "display_data"
    }
   ],
   "source": [
    "top_20_imdb_score.plot(kind='barh', x = 'title', y = 'imdb_score', figsize=(9, 6), color = 'brown')\n",
    "plt.title('Top 20 Movie/Shows Based on IMDB Scores')\n",
    "plt.xlabel('IMDB Score')\n",
    "plt.ylabel('Title')\n",
    "plt.show()"
   ]
  },
  {
   "cell_type": "markdown",
   "id": "272359c5",
   "metadata": {},
   "source": [
    "### Which actor/director are most popular on Netflix based on TMDB Popularity? "
   ]
  },
  {
   "cell_type": "code",
   "execution_count": 72,
   "id": "8639a201",
   "metadata": {},
   "outputs": [],
   "source": [
    "# Top 10 names with highest rating based on tmdb score and popularity\n",
    "top_20_tmdb_rating = data_id.sort_values(['tmdb_score', 'tmdb_popularity'], ascending= False)[['name','tmdb_score','tmdb_popularity', 'type']].head(20)"
   ]
  },
  {
   "cell_type": "code",
   "execution_count": 60,
   "id": "023f6165",
   "metadata": {},
   "outputs": [
    {
     "data": {
      "image/png": "[encoded data removed]",
      "text/plain": [
       "<Figure size 648x432 with 1 Axes>"
      ]
     },
     "metadata": {
      "needs_background": "light"
     },
     "output_type": "display_data"
    }
   ],
   "source": [
    "top_20_tmdb_rating.plot(kind='barh', x = 'name', y = 'tmdb_popularity', figsize=(9, 6), color = 'brown')\n",
    "plt.title('Top 20 Actors/Directors based on tmdb popularity')\n",
    "plt.xlabel('tmdb_popularity')\n",
    "plt.ylabel('Actor/Director')\n",
    "plt.show()"
   ]
  },
  {
   "cell_type": "code",
   "execution_count": 79,
   "id": "e9b767bf",
   "metadata": {},
   "outputs": [],
   "source": [
    "US = data_id[data_id['production_countries']== 'US']\n",
    "top_20_show = US.sort_values(['title', 'imdb_score'], ascending= False)[['title','imdb_score','production_countries', 'type']].head(20)"
   ]
  },
  {
   "cell_type": "code",
   "execution_count": null,
   "id": "87b7b6ec",
   "metadata": {},
   "outputs": [],
   "source": []
  },
  {
   "cell_type": "markdown",
   "id": "741ddaea",
   "metadata": {},
   "source": [
    "## Step 7: Create basic recommendation tool"
   ]
  },
  {
   "cell_type": "markdown",
   "id": "a64aa941",
   "metadata": {},
   "source": [
    "### Merged credits dataset with title dataset to include actors name in the recommendation"
   ]
  },
  {
   "cell_type": "code",
   "execution_count": 24,
   "id": "3b5c3c08",
   "metadata": {},
   "outputs": [],
   "source": [
    "data_credits = pd.read_csv(r'C:\\Users\\melli\\OneDrive\\Desktop\\Python Portfolio\\1. Netflix Analysis\\Dataset\\credits.csv')\n",
    "data_source_titles=pd.read_csv(r'C:\\Users\\melli\\OneDrive\\Desktop\\Python Portfolio\\1. Netflix Analysis\\Dataset\\titles.csv')"
   ]
  },
  {
   "cell_type": "code",
   "execution_count": 25,
   "id": "8b3cdb3f",
   "metadata": {},
   "outputs": [
    {
     "data": {
      "text/html": [
       "<div>\n",
       "<style scoped>\n",
       "    .dataframe tbody tr th:only-of-type {\n",
       "        vertical-align: middle;\n",
       "    }\n",
       "\n",
       "    .dataframe tbody tr th {\n",
       "        vertical-align: top;\n",
       "    }\n",
       "\n",
       "    .dataframe thead th {\n",
       "        text-align: right;\n",
       "    }\n",
       "</style>\n",
       "<table border=\"1\" class=\"dataframe\">\n",
       "  <thead>\n",
       "    <tr style=\"text-align: right;\">\n",
       "      <th></th>\n",
       "      <th>person_id</th>\n",
       "      <th>id</th>\n",
       "      <th>name</th>\n",
       "      <th>character</th>\n",
       "      <th>role</th>\n",
       "      <th>title</th>\n",
       "      <th>type</th>\n",
       "      <th>description</th>\n",
       "      <th>release_year</th>\n",
       "      <th>age_certification</th>\n",
       "      <th>runtime</th>\n",
       "      <th>genres</th>\n",
       "      <th>production_countries</th>\n",
       "      <th>seasons</th>\n",
       "      <th>imdb_id</th>\n",
       "      <th>imdb_score</th>\n",
       "      <th>imdb_votes</th>\n",
       "      <th>tmdb_popularity</th>\n",
       "      <th>tmdb_score</th>\n",
       "    </tr>\n",
       "  </thead>\n",
       "  <tbody>\n",
       "    <tr>\n",
       "      <th>0</th>\n",
       "      <td>3748</td>\n",
       "      <td>tm84618</td>\n",
       "      <td>Robert De Niro</td>\n",
       "      <td>Travis Bickle</td>\n",
       "      <td>ACTOR</td>\n",
       "      <td>Taxi Driver</td>\n",
       "      <td>MOVIE</td>\n",
       "      <td>A mentally unstable Vietnam War veteran works ...</td>\n",
       "      <td>1976</td>\n",
       "      <td>R</td>\n",
       "      <td>113</td>\n",
       "      <td>['crime', 'drama']</td>\n",
       "      <td>['US']</td>\n",
       "      <td>NaN</td>\n",
       "      <td>tt0075314</td>\n",
       "      <td>8.3</td>\n",
       "      <td>795222.0</td>\n",
       "      <td>27.612</td>\n",
       "      <td>8.2</td>\n",
       "    </tr>\n",
       "  </tbody>\n",
       "</table>\n",
       "</div>"
      ],
      "text/plain": [
       "   person_id       id            name      character   role        title  \\\n",
       "0       3748  tm84618  Robert De Niro  Travis Bickle  ACTOR  Taxi Driver   \n",
       "\n",
       "    type                                        description  release_year  \\\n",
       "0  MOVIE  A mentally unstable Vietnam War veteran works ...          1976   \n",
       "\n",
       "  age_certification  runtime              genres production_countries  \\\n",
       "0                 R      113  ['crime', 'drama']               ['US']   \n",
       "\n",
       "   seasons    imdb_id  imdb_score  imdb_votes  tmdb_popularity  tmdb_score  \n",
       "0      NaN  tt0075314         8.3    795222.0           27.612         8.2  "
      ]
     },
     "execution_count": 25,
     "metadata": {},
     "output_type": "execute_result"
    }
   ],
   "source": [
    "data_id = data_credits.merge(data_source_titles, on='id', how='left')\n",
    "data_id.head(1)"
   ]
  },
  {
   "cell_type": "code",
   "execution_count": 26,
   "id": "5cbe39ba",
   "metadata": {},
   "outputs": [],
   "source": [
    "data_recommendation=data_id.copy()"
   ]
  },
  {
   "cell_type": "code",
   "execution_count": 27,
   "id": "b926aa5b",
   "metadata": {},
   "outputs": [],
   "source": [
    "data_recommendation=data_recommendation.drop(['person_id','id','role','type', \n",
    "                                              'release_year','seasons','production_countries','imdb_votes',\n",
    "                                              'imdb_id','tmdb_popularity'], axis=1)"
   ]
  },
  {
   "cell_type": "code",
   "execution_count": 29,
   "id": "dcdb2f02",
   "metadata": {},
   "outputs": [
    {
     "name": "stdout",
     "output_type": "stream",
     "text": [
      "REVIEW TEXT\n",
      "\n",
      "Title: Loving\n",
      "Actor: Alano Miller\n",
      "Genres: ['drama', 'romance']\n",
      "Genres: ['drama', 'romance']\n",
      "Runtime:123 \n",
      "\n",
      "IMDB:7.0\n",
      "Rotten Tomato:6.7\n",
      "\n",
      " ------------------------------------------------------------------------------------------ \n",
      "\n",
      "REVIEW TEXT\n",
      "\n",
      "Title: The Vault\n",
      "Actor: Axel Stein\n",
      "Genres: ['action', 'thriller', 'crime', 'fantasy']\n",
      "Genres: ['action', 'thriller', 'crime', 'fantasy']\n",
      "Runtime:118 \n",
      "\n",
      "IMDB:6.4\n",
      "Rotten Tomato:5.9\n",
      "\n",
      " ------------------------------------------------------------------------------------------ \n",
      "\n",
      "REVIEW TEXT\n",
      "\n",
      "Title: Public Enemies\n",
      "Actor: Channing Tatum\n",
      "Genres: ['crime', 'drama', 'history', 'action', 'european']\n",
      "Genres: ['crime', 'drama', 'history', 'action', 'european']\n",
      "Runtime:143 \n",
      "\n",
      "IMDB:7.0\n",
      "Rotten Tomato:6.7\n",
      "\n",
      " ------------------------------------------------------------------------------------------ \n",
      "\n",
      "REVIEW TEXT\n",
      "\n",
      "Title: The Hows of Us\n",
      "Actor: Tingue Dongelmans\n",
      "Genres: ['drama', 'comedy', 'romance']\n",
      "Genres: ['drama', 'comedy', 'romance']\n",
      "Runtime:117 \n",
      "\n",
      "IMDB:6.7\n",
      "Rotten Tomato:6.9\n",
      "\n",
      " ------------------------------------------------------------------------------------------ \n",
      "\n",
      "REVIEW TEXT\n",
      "\n",
      "Title: Bibik Bibikku\n",
      "Actor: Syafi Danish\n",
      "Genres: ['drama', 'comedy']\n",
      "Genres: ['drama', 'comedy']\n",
      "Runtime:40 \n",
      "\n",
      "IMDB:nan\n",
      "Rotten Tomato:nan\n",
      "\n",
      " ------------------------------------------------------------------------------------------ \n",
      "\n",
      "REVIEW TEXT\n",
      "\n",
      "Title: Rip Tide\n",
      "Actor: Danielle Carter\n",
      "Genres: ['drama', 'family', 'action', 'thriller']\n",
      "Genres: ['drama', 'family', 'action', 'thriller']\n",
      "Runtime:85 \n",
      "\n",
      "IMDB:5.5\n",
      "Rotten Tomato:6.1\n",
      "\n",
      " ------------------------------------------------------------------------------------------ \n",
      "\n",
      "REVIEW TEXT\n",
      "\n",
      "Title: Final Destination 3\n",
      "Actor: Harris Allan\n",
      "Genres: ['horror', 'thriller', 'action', 'crime', 'fantasy', 'european']\n",
      "Genres: ['horror', 'thriller', 'action', 'crime', 'fantasy', 'european']\n",
      "Runtime:93 \n",
      "\n",
      "IMDB:5.8\n",
      "Rotten Tomato:6.1\n",
      "\n",
      " ------------------------------------------------------------------------------------------ \n",
      "\n",
      "REVIEW TEXT\n",
      "\n",
      "Title: The Operative\n",
      "Actor: Arie Tcherner\n",
      "Genres: ['thriller', 'action', 'drama']\n",
      "Genres: ['thriller', 'action', 'drama']\n",
      "Runtime:116 \n",
      "\n",
      "IMDB:5.7\n",
      "Rotten Tomato:5.7\n",
      "\n",
      " ------------------------------------------------------------------------------------------ \n",
      "\n",
      "REVIEW TEXT\n",
      "\n",
      "Title: Into the Wild\n",
      "Actor: Jim Beidler\n",
      "Genres: ['drama']\n",
      "Genres: ['drama']\n",
      "Runtime:140 \n",
      "\n",
      "IMDB:8.1\n",
      "Rotten Tomato:7.8\n",
      "\n",
      " ------------------------------------------------------------------------------------------ \n",
      "\n",
      "REVIEW TEXT\n",
      "\n",
      "Title: Cairo Station\n",
      "Actor: Galal Issa\n",
      "Genres: ['drama', 'crime', 'comedy']\n",
      "Genres: ['drama', 'crime', 'comedy']\n",
      "Runtime:77 \n",
      "\n",
      "IMDB:7.5\n",
      "Rotten Tomato:7.4\n",
      "\n",
      " ------------------------------------------------------------------------------------------ \n",
      "\n"
     ]
    }
   ],
   "source": [
    "n_samples = 10\n",
    "\n",
    "for _ in range(n_samples):\n",
    "    i = random.choice(range(data_recommendation.shape[0]))\n",
    "    print(f\"REVIEW TEXT\\n\\nTitle: {data_recommendation['title'][i]}\\nActor: {data_recommendation['name'][i]}\\nGenres: {data_recommendation['genres'][i]}\\nGenres: {data_recommendation['genres'][i]}\\nRuntime:{data_recommendation['runtime'][i]} \\n\\nIMDB:{data_recommendation['imdb_score'][i]}\\nRotten Tomato:{data_recommendation['tmdb_score'][i]}\")\n",
    "    print('\\n', 90*\"-\", '\\n')"
   ]
  },
  {
   "cell_type": "code",
   "execution_count": null,
   "id": "6e6b869e",
   "metadata": {},
   "outputs": [],
   "source": []
  },
  {
   "cell_type": "code",
   "execution_count": null,
   "id": "fcdcf20b",
   "metadata": {},
   "outputs": [],
   "source": []
  },
  {
   "cell_type": "code",
   "execution_count": null,
   "id": "c4340b9e",
   "metadata": {},
   "outputs": [],
   "source": []
  },
  {
   "cell_type": "code",
   "execution_count": 34,
   "id": "77f1c45b",
   "metadata": {},
   "outputs": [],
   "source": []
  },
  {
   "cell_type": "code",
   "execution_count": null,
   "id": "63c28d41",
   "metadata": {},
   "outputs": [],
   "source": []
  },
  {
   "cell_type": "code",
   "execution_count": null,
   "id": "f7737ae3",
   "metadata": {},
   "outputs": [],
   "source": []
  },
  {
   "cell_type": "code",
   "execution_count": null,
   "id": "8c456277",
   "metadata": {},
   "outputs": [],
   "source": []
  },
  {
   "cell_type": "code",
   "execution_count": null,
   "id": "cfd7a294",
   "metadata": {},
   "outputs": [],
   "source": []
  },
  {
   "cell_type": "code",
   "execution_count": null,
   "id": "222b481a",
   "metadata": {},
   "outputs": [],
   "source": []
  },
  {
   "cell_type": "code",
   "execution_count": null,
   "id": "ab985446",
   "metadata": {},
   "outputs": [],
   "source": []
  },
  {
   "cell_type": "code",
   "execution_count": null,
   "id": "cae709be",
   "metadata": {},
   "outputs": [],
   "source": []
  },
  {
   "cell_type": "code",
   "execution_count": null,
   "id": "eb501d6e",
   "metadata": {},
   "outputs": [],
   "source": []
  },
  {
   "cell_type": "code",
   "execution_count": null,
   "id": "b57c3770",
   "metadata": {},
   "outputs": [],
   "source": []
  },
  {
   "cell_type": "code",
   "execution_count": null,
   "id": "b57a21f8",
   "metadata": {},
   "outputs": [],
   "source": []
  },
  {
   "cell_type": "code",
   "execution_count": null,
   "id": "ed032944",
   "metadata": {},
   "outputs": [],
   "source": []
  }
 ],
 "metadata": {
  "kernelspec": {
   "display_name": "Python 3 (ipykernel)",
   "language": "python",
   "name": "python3"
  },
  "language_info": {
   "codemirror_mode": {
    "name": "ipython",
    "version": 3
   },
   "file_extension": ".py",
   "mimetype": "text/x-python",
   "name": "python",
   "nbconvert_exporter": "python",
   "pygments_lexer": "ipython3",
   "version": "3.10.5"
  }
 },
 "nbformat": 4,
 "nbformat_minor": 5
}
